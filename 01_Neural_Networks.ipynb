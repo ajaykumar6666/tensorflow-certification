{
  "nbformat": 4,
  "nbformat_minor": 0,
  "metadata": {
    "colab": {
      "name": "01_Neural_Networks.ipynb",
      "provenance": [],
      "collapsed_sections": []
    },
    "kernelspec": {
      "name": "python3",
      "display_name": "Python 3"
    },
    "language_info": {
      "name": "python"
    },
    "accelerator": "GPU"
  },
  "cells": [
    {
      "cell_type": "code",
      "execution_count": 53,
      "metadata": {
        "id": "1l9pjy_OwqEK"
      },
      "outputs": [],
      "source": [
        "import numpy as np\n",
        "import tensorflow as tf"
      ]
    },
    {
      "cell_type": "code",
      "source": [
        "a=[[1,2,3],[4,5,6]]\n",
        "a=tf.constant(a,shape=(3,2),dtype='float32')"
      ],
      "metadata": {
        "id": "CYRAjifSwv5M"
      },
      "execution_count": 54,
      "outputs": []
    },
    {
      "cell_type": "code",
      "source": [
        "a"
      ],
      "metadata": {
        "colab": {
          "base_uri": "https://localhost:8080/"
        },
        "id": "ZnsvqNijzpOK",
        "outputId": "761570ef-0e5e-4752-b124-4c398e02d3f8"
      },
      "execution_count": 55,
      "outputs": [
        {
          "output_type": "execute_result",
          "data": {
            "text/plain": [
              "<tf.Tensor: shape=(3, 2), dtype=float32, numpy=\n",
              "array([[1., 2.],\n",
              "       [3., 4.],\n",
              "       [5., 6.]], dtype=float32)>"
            ]
          },
          "metadata": {},
          "execution_count": 55
        }
      ]
    },
    {
      "cell_type": "code",
      "source": [
        "a.dtype"
      ],
      "metadata": {
        "colab": {
          "base_uri": "https://localhost:8080/"
        },
        "id": "PeypL8R80EgZ",
        "outputId": "6ed499cc-0748-4fe1-bc00-0ecf9955ff14"
      },
      "execution_count": 56,
      "outputs": [
        {
          "output_type": "execute_result",
          "data": {
            "text/plain": [
              "tf.float32"
            ]
          },
          "metadata": {},
          "execution_count": 56
        }
      ]
    },
    {
      "cell_type": "code",
      "source": [
        "b=[[1,2,3],[4,5,6]]\n",
        "b=tf.constant(b,shape=(3,2),dtype='float32')"
      ],
      "metadata": {
        "id": "TIyxgdNv0FJg"
      },
      "execution_count": 57,
      "outputs": []
    },
    {
      "cell_type": "code",
      "source": [
        "b"
      ],
      "metadata": {
        "colab": {
          "base_uri": "https://localhost:8080/"
        },
        "id": "AcHUSKjG4Vz-",
        "outputId": "e788258e-a155-4243-bb30-fed934cfc7f3"
      },
      "execution_count": 58,
      "outputs": [
        {
          "output_type": "execute_result",
          "data": {
            "text/plain": [
              "<tf.Tensor: shape=(3, 2), dtype=float32, numpy=\n",
              "array([[1., 2.],\n",
              "       [3., 4.],\n",
              "       [5., 6.]], dtype=float32)>"
            ]
          },
          "metadata": {},
          "execution_count": 58
        }
      ]
    },
    {
      "cell_type": "code",
      "source": [
        "## element wise multiplication\n",
        "print(a*b)\n",
        "# element wise addition\n",
        "print(a+b)\n",
        "\n",
        "## matrix multiplication\n",
        "## the two matrices should not be of same shape\n",
        "b=tf.reshape(b,shape=(2,3))\n",
        "print(a @ b)"
      ],
      "metadata": {
        "colab": {
          "base_uri": "https://localhost:8080/"
        },
        "id": "syYoFQM13We6",
        "outputId": "9105678d-c7be-4e09-c3b0-8fe8768e87c3"
      },
      "execution_count": 59,
      "outputs": [
        {
          "output_type": "stream",
          "name": "stdout",
          "text": [
            "tf.Tensor(\n",
            "[[ 1.  4.]\n",
            " [ 9. 16.]\n",
            " [25. 36.]], shape=(3, 2), dtype=float32)\n",
            "tf.Tensor(\n",
            "[[ 2.  4.]\n",
            " [ 6.  8.]\n",
            " [10. 12.]], shape=(3, 2), dtype=float32)\n",
            "tf.Tensor(\n",
            "[[ 9. 12. 15.]\n",
            " [19. 26. 33.]\n",
            " [29. 40. 51.]], shape=(3, 3), dtype=float32)\n"
          ]
        }
      ]
    },
    {
      "cell_type": "code",
      "source": [
        "## maximum value in the matrix\n",
        "tf.reduce_max(a)\n",
        "\n"
      ],
      "metadata": {
        "colab": {
          "base_uri": "https://localhost:8080/"
        },
        "id": "uzYG5rl33Xwq",
        "outputId": "0a3c9595-abb5-48e9-fecb-139c879cdc84"
      },
      "execution_count": 60,
      "outputs": [
        {
          "output_type": "execute_result",
          "data": {
            "text/plain": [
              "<tf.Tensor: shape=(), dtype=float32, numpy=6.0>"
            ]
          },
          "metadata": {},
          "execution_count": 60
        }
      ]
    },
    {
      "cell_type": "code",
      "source": [
        "tf.reduce_max(a,axis=1,keepdims=True)"
      ],
      "metadata": {
        "colab": {
          "base_uri": "https://localhost:8080/"
        },
        "id": "2lteQ0sr44Hx",
        "outputId": "d9f58763-c3f7-4bab-9ab6-1e7517fd55cc"
      },
      "execution_count": 61,
      "outputs": [
        {
          "output_type": "execute_result",
          "data": {
            "text/plain": [
              "<tf.Tensor: shape=(3, 1), dtype=float32, numpy=\n",
              "array([[2.],\n",
              "       [4.],\n",
              "       [6.]], dtype=float32)>"
            ]
          },
          "metadata": {},
          "execution_count": 61
        }
      ]
    },
    {
      "cell_type": "code",
      "source": [
        "tf.reduce_max(a,axis=0,keepdims=True)\n",
        "## axis=0 is the axis which is across rows."
      ],
      "metadata": {
        "colab": {
          "base_uri": "https://localhost:8080/"
        },
        "id": "StcCz4IN44y2",
        "outputId": "bc75a8f1-2b6e-456b-b1ea-9567d8974be4"
      },
      "execution_count": 62,
      "outputs": [
        {
          "output_type": "execute_result",
          "data": {
            "text/plain": [
              "<tf.Tensor: shape=(1, 2), dtype=float32, numpy=array([[5., 6.]], dtype=float32)>"
            ]
          },
          "metadata": {},
          "execution_count": 62
        }
      ]
    },
    {
      "cell_type": "code",
      "source": [
        "a"
      ],
      "metadata": {
        "colab": {
          "base_uri": "https://localhost:8080/"
        },
        "id": "UqdW_PL-5YOq",
        "outputId": "7008ae5e-e6ec-45e4-e95c-52e250302d7b"
      },
      "execution_count": 63,
      "outputs": [
        {
          "output_type": "execute_result",
          "data": {
            "text/plain": [
              "<tf.Tensor: shape=(3, 2), dtype=float32, numpy=\n",
              "array([[1., 2.],\n",
              "       [3., 4.],\n",
              "       [5., 6.]], dtype=float32)>"
            ]
          },
          "metadata": {},
          "execution_count": 63
        }
      ]
    },
    {
      "cell_type": "code",
      "source": [
        "a=tf.Variable(a)"
      ],
      "metadata": {
        "id": "rwgjxSy-GkaC"
      },
      "execution_count": 64,
      "outputs": []
    },
    {
      "cell_type": "code",
      "source": [
        "a"
      ],
      "metadata": {
        "colab": {
          "base_uri": "https://localhost:8080/"
        },
        "id": "F8sF5oK-GmXc",
        "outputId": "84b60c8f-96b2-4df3-eafc-5380e637f560"
      },
      "execution_count": 65,
      "outputs": [
        {
          "output_type": "execute_result",
          "data": {
            "text/plain": [
              "<tf.Variable 'Variable:0' shape=(3, 2) dtype=float32, numpy=\n",
              "array([[1., 2.],\n",
              "       [3., 4.],\n",
              "       [5., 6.]], dtype=float32)>"
            ]
          },
          "metadata": {},
          "execution_count": 65
        }
      ]
    },
    {
      "cell_type": "code",
      "source": [
        "a[1].assign([100,200])"
      ],
      "metadata": {
        "colab": {
          "base_uri": "https://localhost:8080/"
        },
        "id": "cuNJUaRfGmsi",
        "outputId": "c347e71d-5d04-430b-e3a1-27b733a87cb4"
      },
      "execution_count": 66,
      "outputs": [
        {
          "output_type": "execute_result",
          "data": {
            "text/plain": [
              "<tf.Variable 'UnreadVariable' shape=(3, 2) dtype=float32, numpy=\n",
              "array([[  1.,   2.],\n",
              "       [100., 200.],\n",
              "       [  5.,   6.]], dtype=float32)>"
            ]
          },
          "metadata": {},
          "execution_count": 66
        }
      ]
    },
    {
      "cell_type": "code",
      "source": [
        "a[0].assign([200,300])"
      ],
      "metadata": {
        "colab": {
          "base_uri": "https://localhost:8080/"
        },
        "id": "opX2YDZRGtBk",
        "outputId": "defcde9f-aa79-4f3a-b8ff-17311dde59f4"
      },
      "execution_count": 67,
      "outputs": [
        {
          "output_type": "execute_result",
          "data": {
            "text/plain": [
              "<tf.Variable 'UnreadVariable' shape=(3, 2) dtype=float32, numpy=\n",
              "array([[200., 300.],\n",
              "       [100., 200.],\n",
              "       [  5.,   6.]], dtype=float32)>"
            ]
          },
          "metadata": {},
          "execution_count": 67
        }
      ]
    },
    {
      "cell_type": "code",
      "source": [
        "a.is_initialized()\n",
        "## to immediately check whether the variable is initialized or not?"
      ],
      "metadata": {
        "colab": {
          "base_uri": "https://localhost:8080/"
        },
        "id": "SPr10fKJG3xk",
        "outputId": "20747f1a-b98d-4c41-e63b-4e008b9515ec"
      },
      "execution_count": 68,
      "outputs": [
        {
          "output_type": "execute_result",
          "data": {
            "text/plain": [
              "<tf.Tensor: shape=(), dtype=bool, numpy=True>"
            ]
          },
          "metadata": {},
          "execution_count": 68
        }
      ]
    },
    {
      "cell_type": "code",
      "source": [
        "tf.random.normal(shape=(2,3),mean=10,stddev=10)"
      ],
      "metadata": {
        "colab": {
          "base_uri": "https://localhost:8080/"
        },
        "id": "sxLAw0G9HNxj",
        "outputId": "010f7de8-2a9c-48c8-c6d2-7e41a698aad8"
      },
      "execution_count": 69,
      "outputs": [
        {
          "output_type": "execute_result",
          "data": {
            "text/plain": [
              "<tf.Tensor: shape=(2, 3), dtype=float32, numpy=\n",
              "array([[23.165417 , 16.19848  ,  4.415596 ],\n",
              "       [ 8.166712 ,  6.1606016, 24.877026 ]], dtype=float32)>"
            ]
          },
          "metadata": {},
          "execution_count": 69
        }
      ]
    },
    {
      "cell_type": "code",
      "source": [
        "tf.random.shuffle(a)"
      ],
      "metadata": {
        "colab": {
          "base_uri": "https://localhost:8080/"
        },
        "id": "w4LlgIUMLA5m",
        "outputId": "61d84821-d984-4713-c44c-a6c7d818d9ea"
      },
      "execution_count": 70,
      "outputs": [
        {
          "output_type": "execute_result",
          "data": {
            "text/plain": [
              "<tf.Tensor: shape=(3, 2), dtype=float32, numpy=\n",
              "array([[  5.,   6.],\n",
              "       [200., 300.],\n",
              "       [100., 200.]], dtype=float32)>"
            ]
          },
          "metadata": {},
          "execution_count": 70
        }
      ]
    },
    {
      "cell_type": "code",
      "source": [
        "a[...,tf.newaxis]"
      ],
      "metadata": {
        "colab": {
          "base_uri": "https://localhost:8080/"
        },
        "id": "GFqZklYXLhPh",
        "outputId": "1d0854e8-33c4-4ddc-83e0-669d65ce532e"
      },
      "execution_count": 71,
      "outputs": [
        {
          "output_type": "execute_result",
          "data": {
            "text/plain": [
              "<tf.Tensor: shape=(3, 2, 1), dtype=float32, numpy=\n",
              "array([[[200.],\n",
              "        [300.]],\n",
              "\n",
              "       [[100.],\n",
              "        [200.]],\n",
              "\n",
              "       [[  5.],\n",
              "        [  6.]]], dtype=float32)>"
            ]
          },
          "metadata": {},
          "execution_count": 71
        }
      ]
    },
    {
      "cell_type": "code",
      "source": [
        "a[tf.newaxis,...]"
      ],
      "metadata": {
        "colab": {
          "base_uri": "https://localhost:8080/"
        },
        "id": "Go7dUm5GNqrw",
        "outputId": "160f7258-7e2f-4b7e-a493-2f4f86ba0a53"
      },
      "execution_count": 72,
      "outputs": [
        {
          "output_type": "execute_result",
          "data": {
            "text/plain": [
              "<tf.Tensor: shape=(1, 3, 2), dtype=float32, numpy=\n",
              "array([[[200., 300.],\n",
              "        [100., 200.],\n",
              "        [  5.,   6.]]], dtype=float32)>"
            ]
          },
          "metadata": {},
          "execution_count": 72
        }
      ]
    },
    {
      "cell_type": "code",
      "source": [
        "a"
      ],
      "metadata": {
        "colab": {
          "base_uri": "https://localhost:8080/"
        },
        "id": "T7HdMEr6N2jx",
        "outputId": "e6cd2ff6-1346-474a-fafa-619a1d497f39"
      },
      "execution_count": 73,
      "outputs": [
        {
          "output_type": "execute_result",
          "data": {
            "text/plain": [
              "<tf.Variable 'Variable:0' shape=(3, 2) dtype=float32, numpy=\n",
              "array([[200., 300.],\n",
              "       [100., 200.],\n",
              "       [  5.,   6.]], dtype=float32)>"
            ]
          },
          "metadata": {},
          "execution_count": 73
        }
      ]
    },
    {
      "cell_type": "code",
      "source": [
        "tf.expand_dims(a,axis=1)"
      ],
      "metadata": {
        "colab": {
          "base_uri": "https://localhost:8080/"
        },
        "id": "LS_EjgilO-En",
        "outputId": "8174235c-5dbb-4a4c-9ada-b127217ce789"
      },
      "execution_count": 74,
      "outputs": [
        {
          "output_type": "execute_result",
          "data": {
            "text/plain": [
              "<tf.Tensor: shape=(3, 1, 2), dtype=float32, numpy=\n",
              "array([[[200., 300.]],\n",
              "\n",
              "       [[100., 200.]],\n",
              "\n",
              "       [[  5.,   6.]]], dtype=float32)>"
            ]
          },
          "metadata": {},
          "execution_count": 74
        }
      ]
    },
    {
      "cell_type": "code",
      "source": [
        "a[tf.newaxis,...]"
      ],
      "metadata": {
        "colab": {
          "base_uri": "https://localhost:8080/"
        },
        "id": "dUbcjEZ7PBTl",
        "outputId": "c417cfa7-5b14-4ff8-e3f7-800bb02a5574"
      },
      "execution_count": 75,
      "outputs": [
        {
          "output_type": "execute_result",
          "data": {
            "text/plain": [
              "<tf.Tensor: shape=(1, 3, 2), dtype=float32, numpy=\n",
              "array([[[200., 300.],\n",
              "        [100., 200.],\n",
              "        [  5.,   6.]]], dtype=float32)>"
            ]
          },
          "metadata": {},
          "execution_count": 75
        }
      ]
    },
    {
      "cell_type": "code",
      "source": [
        "## the result of the matrix multiplication is the outer dimensions.\n",
        "## the inputs rows of one matrix should be the same as columns as other matrix."
      ],
      "metadata": {
        "id": "EC8DJKlaPObR"
      },
      "execution_count": 76,
      "outputs": []
    },
    {
      "cell_type": "code",
      "source": [
        "a=tf.random.normal(shape=(2,3),mean=0,stddev=1)\n",
        "b=tf.random.normal(shape=(3,2),mean=0,stddev=1)"
      ],
      "metadata": {
        "id": "wNmcu6nfSqRd"
      },
      "execution_count": 77,
      "outputs": []
    },
    {
      "cell_type": "code",
      "source": [
        "a,b"
      ],
      "metadata": {
        "colab": {
          "base_uri": "https://localhost:8080/"
        },
        "id": "hAsw971KTAkC",
        "outputId": "810bb520-04e3-4f2e-9c40-c944daa3c55c"
      },
      "execution_count": 78,
      "outputs": [
        {
          "output_type": "execute_result",
          "data": {
            "text/plain": [
              "(<tf.Tensor: shape=(2, 3), dtype=float32, numpy=\n",
              " array([[ 0.7879332 ,  0.7871286 , -1.087564  ],\n",
              "        [-1.3422972 , -0.70235676, -0.02671925]], dtype=float32)>,\n",
              " <tf.Tensor: shape=(3, 2), dtype=float32, numpy=\n",
              " array([[ 0.26273942, -0.40642062],\n",
              "        [-1.0357411 ,  0.415366  ],\n",
              "        [ 0.05440439,  0.9193911 ]], dtype=float32)>)"
            ]
          },
          "metadata": {},
          "execution_count": 78
        }
      ]
    },
    {
      "cell_type": "code",
      "source": [
        "a@b"
      ],
      "metadata": {
        "colab": {
          "base_uri": "https://localhost:8080/"
        },
        "id": "nsyQeVeaTD0n",
        "outputId": "63adb8eb-1b2a-4ac9-fbed-1ff55212f533"
      },
      "execution_count": 79,
      "outputs": [
        {
          "output_type": "execute_result",
          "data": {
            "text/plain": [
              "<tf.Tensor: shape=(2, 2), dtype=float32, numpy=\n",
              "array([[-0.66740865, -0.9931825 ],\n",
              "       [ 0.37333173,  0.22923668]], dtype=float32)>"
            ]
          },
          "metadata": {},
          "execution_count": 79
        }
      ]
    },
    {
      "cell_type": "code",
      "source": [
        "tf.matmul(a,b)"
      ],
      "metadata": {
        "colab": {
          "base_uri": "https://localhost:8080/"
        },
        "id": "NKXDvvaGTE4F",
        "outputId": "c63a1c04-a5f6-46e1-831e-ca74c3f6a7dc"
      },
      "execution_count": 80,
      "outputs": [
        {
          "output_type": "execute_result",
          "data": {
            "text/plain": [
              "<tf.Tensor: shape=(2, 2), dtype=float32, numpy=\n",
              "array([[-0.66740865, -0.9931825 ],\n",
              "       [ 0.37333173,  0.22923668]], dtype=float32)>"
            ]
          },
          "metadata": {},
          "execution_count": 80
        }
      ]
    },
    {
      "cell_type": "code",
      "source": [
        "tf.tensordot(a,b,axes=0)"
      ],
      "metadata": {
        "colab": {
          "base_uri": "https://localhost:8080/"
        },
        "id": "HIWZ4DXMTIWC",
        "outputId": "13933b16-0060-443c-fe55-b530aecfe242"
      },
      "execution_count": 81,
      "outputs": [
        {
          "output_type": "execute_result",
          "data": {
            "text/plain": [
              "<tf.Tensor: shape=(2, 3, 3, 2), dtype=float32, numpy=\n",
              "array([[[[ 0.2070211 , -0.32023227],\n",
              "         [-0.81609476,  0.32728064],\n",
              "         [ 0.04286703,  0.72441876]],\n",
              "\n",
              "        [[ 0.20680971, -0.3199053 ],\n",
              "         [-0.8152615 ,  0.32694647],\n",
              "         [ 0.04282326,  0.72367907]],\n",
              "\n",
              "        [[-0.28574592,  0.44200844],\n",
              "         [ 1.1264347 , -0.4517371 ],\n",
              "         [-0.05916826, -0.99989665]]],\n",
              "\n",
              "\n",
              "       [[[-0.3526744 ,  0.54553723],\n",
              "         [ 1.3902724 , -0.5575446 ],\n",
              "         [-0.07302687, -1.234096  ]],\n",
              "\n",
              "        [[-0.1845368 ,  0.28545228],\n",
              "         [ 0.7274597 , -0.2917351 ],\n",
              "         [-0.03821129, -0.64574057]],\n",
              "\n",
              "        [[-0.0070202 ,  0.01085925],\n",
              "         [ 0.02767422, -0.01109827],\n",
              "         [-0.00145364, -0.02456544]]]], dtype=float32)>"
            ]
          },
          "metadata": {},
          "execution_count": 81
        }
      ]
    },
    {
      "cell_type": "code",
      "source": [
        "## to change the datatype of a tensor\n",
        "tf.cast(a,tf.float64)"
      ],
      "metadata": {
        "colab": {
          "base_uri": "https://localhost:8080/"
        },
        "id": "0FyZSWg8TVT4",
        "outputId": "57c1acc4-ad49-4f03-aa28-7e2f1f790c62"
      },
      "execution_count": 82,
      "outputs": [
        {
          "output_type": "execute_result",
          "data": {
            "text/plain": [
              "<tf.Tensor: shape=(2, 3), dtype=float64, numpy=\n",
              "array([[ 0.78793317,  0.78712863, -1.08756399],\n",
              "       [-1.3422972 , -0.70235676, -0.02671925]])>"
            ]
          },
          "metadata": {},
          "execution_count": 82
        }
      ]
    },
    {
      "cell_type": "code",
      "source": [
        "#if you want to sqeeze the single dimensions from the tensor, you can use squeeze function\n",
        "a=tf.expand_dims(a,axis=0)\n"
      ],
      "metadata": {
        "id": "Z4ZFl2sBULAX"
      },
      "execution_count": 83,
      "outputs": []
    },
    {
      "cell_type": "code",
      "source": [
        "a=a[tf.newaxis,tf.newaxis,...]"
      ],
      "metadata": {
        "id": "eEbVPncxUfso"
      },
      "execution_count": 84,
      "outputs": []
    },
    {
      "cell_type": "code",
      "source": [
        "tf.squeeze(a)\n",
        "## one squeeze removes all the one dimensions."
      ],
      "metadata": {
        "colab": {
          "base_uri": "https://localhost:8080/"
        },
        "id": "_lAEc0EMUWnM",
        "outputId": "5bac28d6-4318-4690-b8a2-398128139aa8"
      },
      "execution_count": 85,
      "outputs": [
        {
          "output_type": "execute_result",
          "data": {
            "text/plain": [
              "<tf.Tensor: shape=(2, 3), dtype=float32, numpy=\n",
              "array([[ 0.7879332 ,  0.7871286 , -1.087564  ],\n",
              "       [-1.3422972 , -0.70235676, -0.02671925]], dtype=float32)>"
            ]
          },
          "metadata": {},
          "execution_count": 85
        }
      ]
    },
    {
      "cell_type": "code",
      "source": [
        "## one hot encoding\n",
        "somelist=[0,1,2,3,4]\n",
        "tf.one_hot(somelist,depth=4)"
      ],
      "metadata": {
        "colab": {
          "base_uri": "https://localhost:8080/"
        },
        "id": "BPU_-VEdUd4A",
        "outputId": "0b24e015-d8cd-4a70-a683-cf5f3b09cea1"
      },
      "execution_count": 86,
      "outputs": [
        {
          "output_type": "execute_result",
          "data": {
            "text/plain": [
              "<tf.Tensor: shape=(5, 4), dtype=float32, numpy=\n",
              "array([[1., 0., 0., 0.],\n",
              "       [0., 1., 0., 0.],\n",
              "       [0., 0., 1., 0.],\n",
              "       [0., 0., 0., 1.],\n",
              "       [0., 0., 0., 0.]], dtype=float32)>"
            ]
          },
          "metadata": {},
          "execution_count": 86
        }
      ]
    },
    {
      "cell_type": "code",
      "source": [
        "def function(x,y):\n",
        "  return x**2+y"
      ],
      "metadata": {
        "id": "Lida9TSDXY1A"
      },
      "execution_count": 87,
      "outputs": []
    },
    {
      "cell_type": "code",
      "source": [
        "%time\n",
        "x=tf.constant(np.arange(100000000))\n",
        "y=tf.constant(np.arange(100000000))\n",
        "function(x,y)"
      ],
      "metadata": {
        "colab": {
          "base_uri": "https://localhost:8080/"
        },
        "id": "WYGyPNfQYdkY",
        "outputId": "c34e4c38-2396-4438-dbe7-21344a09344e"
      },
      "execution_count": 88,
      "outputs": [
        {
          "output_type": "stream",
          "name": "stdout",
          "text": [
            "CPU times: user 4 µs, sys: 2 µs, total: 6 µs\n",
            "Wall time: 11.2 µs\n"
          ]
        },
        {
          "output_type": "execute_result",
          "data": {
            "text/plain": [
              "<tf.Tensor: shape=(100000000,), dtype=int64, numpy=\n",
              "array([               0,                2,                6, ...,\n",
              "       9999999500000006, 9999999700000002, 9999999900000000])>"
            ]
          },
          "metadata": {},
          "execution_count": 88
        }
      ]
    },
    {
      "cell_type": "code",
      "source": [
        "%time\n",
        "@tf.function\n",
        "def tf_function(x,y):\n",
        "  return x**2+y\n",
        "tf_function(x,y)"
      ],
      "metadata": {
        "colab": {
          "base_uri": "https://localhost:8080/"
        },
        "id": "hqcnr_TXYiL1",
        "outputId": "1d281b70-f582-49ab-ae5a-f53df6f07922"
      },
      "execution_count": 89,
      "outputs": [
        {
          "output_type": "stream",
          "name": "stdout",
          "text": [
            "CPU times: user 3 µs, sys: 1 µs, total: 4 µs\n",
            "Wall time: 9.06 µs\n"
          ]
        },
        {
          "output_type": "execute_result",
          "data": {
            "text/plain": [
              "<tf.Tensor: shape=(100000000,), dtype=int64, numpy=\n",
              "array([               0,                2,                6, ...,\n",
              "       9999999500000006, 9999999700000002, 9999999900000000])>"
            ]
          },
          "metadata": {},
          "execution_count": 89
        }
      ]
    },
    {
      "cell_type": "code",
      "source": [
        "print(tf.config.list_physical_devices('GPU'))"
      ],
      "metadata": {
        "colab": {
          "base_uri": "https://localhost:8080/"
        },
        "id": "lksnCgVbYwD5",
        "outputId": "36065015-7e78-4de0-f09b-65a7b4293b9b"
      },
      "execution_count": 90,
      "outputs": [
        {
          "output_type": "stream",
          "name": "stdout",
          "text": [
            "[PhysicalDevice(name='/physical_device:GPU:0', device_type='GPU')]\n"
          ]
        }
      ]
    },
    {
      "cell_type": "code",
      "source": [
        "!nvidia-smi"
      ],
      "metadata": {
        "colab": {
          "base_uri": "https://localhost:8080/"
        },
        "id": "9tpZRO1jdXes",
        "outputId": "20f29637-59b3-4d35-ad8c-cbd08b9e28e1"
      },
      "execution_count": 91,
      "outputs": [
        {
          "output_type": "stream",
          "name": "stdout",
          "text": [
            "Mon Mar 28 07:51:54 2022       \n",
            "+-----------------------------------------------------------------------------+\n",
            "| NVIDIA-SMI 460.32.03    Driver Version: 460.32.03    CUDA Version: 11.2     |\n",
            "|-------------------------------+----------------------+----------------------+\n",
            "| GPU  Name        Persistence-M| Bus-Id        Disp.A | Volatile Uncorr. ECC |\n",
            "| Fan  Temp  Perf  Pwr:Usage/Cap|         Memory-Usage | GPU-Util  Compute M. |\n",
            "|                               |                      |               MIG M. |\n",
            "|===============================+======================+======================|\n",
            "|   0  Tesla K80           Off  | 00000000:00:04.0 Off |                    0 |\n",
            "| N/A   53C    P0    65W / 149W |   8387MiB / 11441MiB |     24%      Default |\n",
            "|                               |                      |                  N/A |\n",
            "+-------------------------------+----------------------+----------------------+\n",
            "                                                                               \n",
            "+-----------------------------------------------------------------------------+\n",
            "| Processes:                                                                  |\n",
            "|  GPU   GI   CI        PID   Type   Process name                  GPU Memory |\n",
            "|        ID   ID                                                   Usage      |\n",
            "|=============================================================================|\n",
            "+-----------------------------------------------------------------------------+\n"
          ]
        }
      ]
    },
    {
      "cell_type": "code",
      "source": [
        ""
      ],
      "metadata": {
        "id": "Sfy7Jjvzdohm"
      },
      "execution_count": 91,
      "outputs": []
    },
    {
      "cell_type": "markdown",
      "source": [
        "#Exercises"
      ],
      "metadata": {
        "id": "wifCcPVqfDPS"
      }
    },
    {
      "cell_type": "code",
      "source": [
        "#1\n",
        "a=tf.constant(7)\n",
        "print(a)\n",
        "print(a.shape)\n",
        "print(a.ndim)"
      ],
      "metadata": {
        "colab": {
          "base_uri": "https://localhost:8080/"
        },
        "id": "0n2Gfy0OfFd1",
        "outputId": "16187bf5-3104-40bd-c8b7-b14e11f4f8b0"
      },
      "execution_count": 183,
      "outputs": [
        {
          "output_type": "stream",
          "name": "stdout",
          "text": [
            "tf.Tensor(7, shape=(), dtype=int32)\n",
            "()\n",
            "0\n"
          ]
        }
      ]
    },
    {
      "cell_type": "code",
      "source": [
        "\n",
        "a=tf.constant([7,8])\n",
        "print(a)\n",
        "print(a.shape)\n",
        "print(a.ndim)"
      ],
      "metadata": {
        "colab": {
          "base_uri": "https://localhost:8080/"
        },
        "id": "DkQyCaedfKUk",
        "outputId": "82c4d026-68a5-417c-8b90-159b693a6f00"
      },
      "execution_count": 184,
      "outputs": [
        {
          "output_type": "stream",
          "name": "stdout",
          "text": [
            "tf.Tensor([7 8], shape=(2,), dtype=int32)\n",
            "(2,)\n",
            "1\n"
          ]
        }
      ]
    },
    {
      "cell_type": "code",
      "source": [
        "a=tf.constant([[7,8],[4,5]])\n",
        "print(a.shape)\n",
        "print(a)\n",
        "print(a.ndim)"
      ],
      "metadata": {
        "colab": {
          "base_uri": "https://localhost:8080/"
        },
        "id": "JwpPvOeafRI_",
        "outputId": "7b7dbf7c-328a-40dc-824e-d22440fcf077"
      },
      "execution_count": 185,
      "outputs": [
        {
          "output_type": "stream",
          "name": "stdout",
          "text": [
            "(2, 2)\n",
            "tf.Tensor(\n",
            "[[7 8]\n",
            " [4 5]], shape=(2, 2), dtype=int32)\n",
            "2\n"
          ]
        }
      ]
    },
    {
      "cell_type": "code",
      "source": [
        "a=np.random.randn(64,64,3)\n",
        "a=tf.constant(a)\n",
        "print(a.shape)\n",
        "print(a)\n",
        "print(a.ndim)"
      ],
      "metadata": {
        "colab": {
          "base_uri": "https://localhost:8080/"
        },
        "id": "2i3--I01fVpU",
        "outputId": "b4158167-1066-4806-eb18-2a2e8ef874cc"
      },
      "execution_count": 186,
      "outputs": [
        {
          "output_type": "stream",
          "name": "stdout",
          "text": [
            "(64, 64, 3)\n",
            "tf.Tensor(\n",
            "[[[-3.87303508e-01 -4.69295811e-01  5.37297596e-01]\n",
            "  [ 2.11751629e-01  1.58003957e+00 -7.30491766e-01]\n",
            "  [-5.40622507e-01  2.12032798e-01  9.13515523e-01]\n",
            "  ...\n",
            "  [ 1.46072081e-01  1.03891942e-02 -1.38249037e+00]\n",
            "  [-1.33118143e+00  9.52693334e-02  6.59449108e-01]\n",
            "  [ 1.00657911e+00 -1.13444207e+00  1.75088625e+00]]\n",
            "\n",
            " [[-8.33305134e-01 -5.25589360e-02  1.65977470e+00]\n",
            "  [ 6.69034646e-01  1.70841461e-01  3.29798067e-01]\n",
            "  [-1.43429869e-01 -4.26382669e-02  1.27899253e+00]\n",
            "  ...\n",
            "  [ 1.29673215e+00  2.21139501e+00 -1.98075044e+00]\n",
            "  [-2.03909002e+00 -1.08284078e+00  1.14935511e+00]\n",
            "  [ 4.49744898e-01  1.13722207e+00  1.07160047e+00]]\n",
            "\n",
            " [[ 1.38293242e-01  4.64682976e-02  8.03613999e-02]\n",
            "  [ 9.59078797e-02  4.00609214e-01 -2.00917929e+00]\n",
            "  [-6.13521301e-01  1.44699071e+00 -1.95740109e-01]\n",
            "  ...\n",
            "  [ 9.56956431e-02 -7.35792131e-01 -2.41075470e-01]\n",
            "  [-9.41654897e-01 -1.64979360e+00 -1.11197367e+00]\n",
            "  [-4.09456665e-04  5.37649113e-01 -6.82259807e-01]]\n",
            "\n",
            " ...\n",
            "\n",
            " [[-7.11658767e-02 -6.63621835e-01 -9.42712136e-01]\n",
            "  [ 6.70284310e-02 -1.47280075e+00 -9.32248459e-01]\n",
            "  [ 1.27955471e+00  1.61683262e+00  6.24802640e-01]\n",
            "  ...\n",
            "  [ 5.68492511e-01 -1.54917845e+00 -1.09735195e+00]\n",
            "  [ 9.28855006e-02 -9.45140734e-01 -6.82400201e-01]\n",
            "  [ 1.54627933e-01 -2.10402533e+00 -6.51611050e-01]]\n",
            "\n",
            " [[-4.23107441e-01  1.96762883e-01 -1.31880457e+00]\n",
            "  [ 5.57931298e-01  3.81408095e-01 -7.96634632e-01]\n",
            "  [-4.90730481e-01 -2.37291078e-03 -1.86400483e+00]\n",
            "  ...\n",
            "  [-8.31757967e-01 -1.90614984e-01  2.04294327e+00]\n",
            "  [ 3.26080165e-01  6.75973946e-01  4.37613199e-01]\n",
            "  [-4.86585851e-01  2.42594586e-01 -3.65620396e-01]]\n",
            "\n",
            " [[-8.28231576e-01 -2.97610433e+00 -2.16266702e+00]\n",
            "  [ 8.25253710e-02  7.92937375e-02 -2.98632051e-01]\n",
            "  [-1.51885997e+00  2.83823595e-01  3.86299027e-02]\n",
            "  ...\n",
            "  [ 1.14084328e+00 -6.07957655e-01  3.88543050e-01]\n",
            "  [-1.34918240e+00 -1.07787761e+00 -4.90156994e-01]\n",
            "  [-1.58999370e-01  7.42232889e-01 -7.51507420e-01]]], shape=(64, 64, 3), dtype=float64)\n",
            "3\n"
          ]
        }
      ]
    },
    {
      "cell_type": "code",
      "source": [
        "#3\n",
        "a=tf.random.uniform(shape=(5,300),minval=0,maxval=1)\n",
        "b=tf.random.uniform(shape=(5,300),minval=0,maxval=1)"
      ],
      "metadata": {
        "id": "jvJcefJBfw8I"
      },
      "execution_count": 187,
      "outputs": []
    },
    {
      "cell_type": "code",
      "source": [
        "#4\n",
        "tf.matmul(a,tf.transpose(b))"
      ],
      "metadata": {
        "colab": {
          "base_uri": "https://localhost:8080/"
        },
        "id": "r1LXGTGvj7kr",
        "outputId": "5fb8e6d7-459f-49e7-eddf-6c62f9ba72a8"
      },
      "execution_count": 188,
      "outputs": [
        {
          "output_type": "execute_result",
          "data": {
            "text/plain": [
              "<tf.Tensor: shape=(5, 5), dtype=float32, numpy=\n",
              "array([[77.81986 , 76.03356 , 71.97693 , 74.72475 , 78.44449 ],\n",
              "       [75.71071 , 72.93967 , 73.30892 , 74.824196, 77.78872 ],\n",
              "       [73.6935  , 74.08628 , 71.080315, 75.03168 , 73.63146 ],\n",
              "       [80.06328 , 77.70247 , 74.60313 , 81.810356, 80.274086],\n",
              "       [78.25927 , 73.57877 , 75.06772 , 78.31542 , 77.77592 ]],\n",
              "      dtype=float32)>"
            ]
          },
          "metadata": {},
          "execution_count": 188
        }
      ]
    },
    {
      "cell_type": "code",
      "source": [
        "#4\n",
        "tf.tensordot(a,tf.transpose(b),axes=1)"
      ],
      "metadata": {
        "colab": {
          "base_uri": "https://localhost:8080/"
        },
        "id": "bz5vBWq6kPEJ",
        "outputId": "a3bbc55b-4ca2-40a3-bf06-948467f23120"
      },
      "execution_count": 189,
      "outputs": [
        {
          "output_type": "execute_result",
          "data": {
            "text/plain": [
              "<tf.Tensor: shape=(5, 5), dtype=float32, numpy=\n",
              "array([[77.81986 , 76.03356 , 71.97693 , 74.72475 , 78.44449 ],\n",
              "       [75.71071 , 72.93967 , 73.30892 , 74.824196, 77.78872 ],\n",
              "       [73.6935  , 74.08628 , 71.080315, 75.03168 , 73.63146 ],\n",
              "       [80.06328 , 77.70247 , 74.60313 , 81.810356, 80.274086],\n",
              "       [78.25927 , 73.57877 , 75.06772 , 78.31542 , 77.77592 ]],\n",
              "      dtype=float32)>"
            ]
          },
          "metadata": {},
          "execution_count": 189
        }
      ]
    },
    {
      "cell_type": "code",
      "source": [
        "#5\n",
        "tf.tensordot(a,b,axes=0)"
      ],
      "metadata": {
        "colab": {
          "base_uri": "https://localhost:8080/"
        },
        "id": "qnb-6zrfknW-",
        "outputId": "1fbaee41-f2f1-40cb-9952-5046812e7633"
      },
      "execution_count": 190,
      "outputs": [
        {
          "output_type": "execute_result",
          "data": {
            "text/plain": [
              "<tf.Tensor: shape=(5, 300, 5, 300), dtype=float32, numpy=\n",
              "array([[[[7.10551918e-01, 2.95317974e-02, 3.12610209e-01, ...,\n",
              "          2.22665370e-01, 2.98033625e-01, 1.62707850e-01],\n",
              "         [5.29065728e-01, 1.44152030e-01, 5.83182797e-02, ...,\n",
              "          7.17305765e-02, 5.40486090e-02, 5.30811191e-01],\n",
              "         [7.05810487e-01, 1.69586226e-01, 8.02313089e-01, ...,\n",
              "          2.35534489e-01, 6.48823529e-02, 6.16474390e-01],\n",
              "         [3.00731450e-01, 6.24275208e-01, 4.45724905e-01, ...,\n",
              "          7.55782008e-01, 7.23155797e-01, 3.30035299e-01],\n",
              "         [6.83836520e-01, 6.70659900e-01, 8.26017082e-01, ...,\n",
              "          5.89658737e-01, 6.23449206e-01, 7.67040431e-01]],\n",
              "\n",
              "        [[5.02472401e-01, 2.08836440e-02, 2.21064776e-01, ...,\n",
              "          1.57459587e-01, 2.10756838e-01, 1.15060151e-01],\n",
              "         [3.74133021e-01, 1.01938248e-01, 4.12402339e-02, ...,\n",
              "          5.07248454e-02, 3.82209010e-02, 3.75367343e-01],\n",
              "         [4.99119490e-01, 1.19924247e-01, 5.67362070e-01, ...,\n",
              "          1.66560084e-01, 4.58820686e-02, 4.35944766e-01],\n",
              "         [2.12664634e-01, 4.41461176e-01, 3.15197915e-01, ...,\n",
              "          5.34457207e-01, 5.11385381e-01, 2.33387068e-01],\n",
              "         [4.83580410e-01, 4.74262446e-01, 5.84124506e-01, ...,\n",
              "          4.16981876e-01, 4.40877050e-01, 5.42418718e-01]],\n",
              "\n",
              "        [[4.26590353e-01, 1.77298505e-02, 1.87680155e-01, ...,\n",
              "          1.33680448e-01, 1.78928882e-01, 9.76840630e-02],\n",
              "         [3.17632437e-01, 8.65437984e-02, 3.50122415e-02, ...,\n",
              "          4.30645123e-02, 3.24488804e-02, 3.18680346e-01],\n",
              "         [4.23743755e-01, 1.01813599e-01, 4.81680542e-01, ...,\n",
              "          1.41406611e-01, 3.89530808e-02, 3.70109528e-01],\n",
              "         [1.80548579e-01, 3.74792844e-01, 2.67597556e-01, ...,\n",
              "          4.53744888e-01, 4.34157282e-01, 1.98141560e-01],\n",
              "         [4.10551369e-01, 4.02640581e-01, 4.95911568e-01, ...,\n",
              "          3.54010344e-01, 3.74296963e-01, 4.60504085e-01]],\n",
              "\n",
              "        ...,\n",
              "\n",
              "        [[6.24212287e-02, 2.59433687e-03, 2.74624731e-02, ...,\n",
              "          1.95609163e-02, 2.61819363e-02, 1.42937116e-02],\n",
              "         [4.64778617e-02, 1.26636019e-02, 5.12319850e-03, ...,\n",
              "          6.30145473e-03, 4.74811299e-03, 4.66311984e-02],\n",
              "         [6.20047003e-02, 1.48979696e-02, 7.04823509e-02, ...,\n",
              "          2.06914544e-02, 5.69984550e-03, 5.41566201e-02],\n",
              "         [2.64189374e-02, 5.48419133e-02, 3.91564593e-02, ...,\n",
              "          6.63946420e-02, 6.35284707e-02, 2.89932489e-02],\n",
              "         [6.00743107e-02, 5.89167587e-02, 7.25647211e-02, ...,\n",
              "          5.18008955e-02, 5.47693484e-02, 6.73836842e-02]],\n",
              "\n",
              "        [[1.18544184e-01, 4.92690643e-03, 5.21539971e-02, ...,\n",
              "          3.71481441e-02, 4.97221276e-02, 2.71451939e-02],\n",
              "         [8.82661268e-02, 2.40494534e-02, 9.72946920e-03, ...,\n",
              "          1.19670955e-02, 9.01714340e-03, 8.85573328e-02],\n",
              "         [1.17753156e-01, 2.82927416e-02, 1.33853063e-01, ...,\n",
              "          3.92951481e-02, 1.08245797e-02, 1.02848865e-01],\n",
              "         [5.01722172e-02, 1.04150303e-01, 7.43620470e-02, ...,\n",
              "          1.26090094e-01, 1.20646946e-01, 5.50610907e-02],\n",
              "         [1.14087150e-01, 1.11888841e-01, 1.37807697e-01, ...,\n",
              "          9.83751044e-02, 1.04012497e-01, 1.27968386e-01]],\n",
              "\n",
              "        [[6.59870028e-01, 2.74253674e-02, 2.90312499e-01, ...,\n",
              "          2.06783205e-01, 2.76775628e-01, 1.51102304e-01],\n",
              "         [4.91328776e-01, 1.33870021e-01, 5.41585796e-02, ...,\n",
              "          6.66142106e-02, 5.01934551e-02, 4.92949754e-01],\n",
              "         [6.55466795e-01, 1.57490060e-01, 7.45086074e-01, ...,\n",
              "          2.18734398e-01, 6.02544546e-02, 5.72502792e-01],\n",
              "         [2.79281020e-01, 5.79747200e-01, 4.13932472e-01, ...,\n",
              "          7.01873899e-01, 6.71574891e-01, 3.06494683e-01],\n",
              "         [6.35060132e-01, 6.22823358e-01, 7.67099321e-01, ...,\n",
              "          5.47599852e-01, 5.78980148e-01, 7.12329388e-01]]],\n",
              "\n",
              "\n",
              "       [[[5.73801875e-01, 2.38482226e-02, 2.52446473e-01, ...,\n",
              "          1.79812074e-01, 2.40675226e-01, 1.31393731e-01],\n",
              "         [4.27243799e-01, 1.16409093e-01, 4.70945686e-02, ...,\n",
              "          5.79255894e-02, 4.36466262e-02, 4.28653330e-01],\n",
              "         [5.69972932e-01, 1.36948332e-01, 6.47903085e-01, ...,\n",
              "          1.90204442e-01, 5.23953475e-02, 4.97830153e-01],\n",
              "         [2.42853850e-01, 5.04129648e-01, 3.59942436e-01, ...,\n",
              "          6.10327125e-01, 5.83980083e-01, 2.66517997e-01],\n",
              "         [5.52228034e-01, 5.41587293e-01, 6.67045057e-01, ...,\n",
              "          4.76175338e-01, 5.03462613e-01, 6.19418859e-01]],\n",
              "\n",
              "        [[2.30516940e-01, 9.58069321e-03, 1.01416864e-01, ...,\n",
              "          7.22370073e-02, 9.66879353e-02, 5.27856126e-02],\n",
              "         [1.71639279e-01, 4.67657372e-02, 1.89195909e-02, ...,\n",
              "          2.32708026e-02, 1.75344273e-02, 1.72205538e-01],\n",
              "         [2.28978738e-01, 5.50170913e-02, 2.60286063e-01, ...,\n",
              "          7.64119923e-02, 2.10491046e-02, 1.99996367e-01],\n",
              "         [9.75631699e-02, 2.02527091e-01, 1.44601882e-01, ...,\n",
              "          2.45190457e-01, 2.34605893e-01, 1.07069902e-01],\n",
              "         [2.21849948e-01, 2.17575192e-01, 2.67976105e-01, ...,\n",
              "          1.91296846e-01, 2.02259123e-01, 2.48842940e-01]],\n",
              "\n",
              "        [[6.68719471e-01, 2.77931672e-02, 2.94205844e-01, ...,\n",
              "          2.09556356e-01, 2.80487418e-01, 1.53128728e-01],\n",
              "         [4.97917950e-01, 1.35665342e-01, 5.48848957e-02, ...,\n",
              "          6.75075725e-02, 5.08665964e-02, 4.99560654e-01],\n",
              "         [6.64257169e-01, 1.59602150e-01, 7.55078375e-01, ...,\n",
              "          2.21667811e-01, 6.10625222e-02, 5.80180585e-01],\n",
              "         [2.83026427e-01, 5.87522149e-01, 4.19483662e-01, ...,\n",
              "          7.11286664e-01, 6.80581331e-01, 3.10605049e-01],\n",
              "         [6.43576860e-01, 6.31175995e-01, 7.77386844e-01, ...,\n",
              "          5.54943681e-01, 5.86744785e-01, 7.21882343e-01]],\n",
              "\n",
              "        ...,\n",
              "\n",
              "        [[2.78186649e-01, 1.15619302e-02, 1.22389339e-01, ...,\n",
              "          8.71752352e-02, 1.16682492e-01, 6.37013987e-02],\n",
              "         [2.07133383e-01, 5.64366467e-02, 2.28320621e-02, ...,\n",
              "          2.80830823e-02, 2.11604536e-02, 2.07816735e-01],\n",
              "         [2.76330322e-01, 6.63943365e-02, 3.14111859e-01, ...,\n",
              "          9.22135934e-02, 2.54019480e-02, 2.41354555e-01],\n",
              "         [1.17738716e-01, 2.44408637e-01, 1.74504787e-01, ...,\n",
              "          2.95894563e-01, 2.83121169e-01, 1.29211396e-01],\n",
              "         [2.67727345e-01, 2.62568593e-01, 3.23392153e-01, ...,\n",
              "          2.30856016e-01, 2.44085252e-01, 3.00302356e-01]],\n",
              "\n",
              "        [[2.98760105e-02, 1.24169991e-03, 1.31440721e-02, ...,\n",
              "          9.36223380e-03, 1.25311818e-02, 6.84124744e-03],\n",
              "         [2.22452059e-02, 6.06104545e-03, 2.45206221e-03, ...,\n",
              "          3.01599852e-03, 2.27253884e-03, 2.23185942e-02],\n",
              "         [2.96766516e-02, 7.13045709e-03, 3.37342210e-02, ...,\n",
              "          9.90333036e-03, 2.72805663e-03, 2.59204078e-02],\n",
              "         [1.26446160e-02, 2.62484029e-02, 1.87410396e-02, ...,\n",
              "          3.17777619e-02, 3.04059554e-02, 1.38767306e-02],\n",
              "         [2.87527293e-02, 2.81987023e-02, 3.47308815e-02, ...,\n",
              "          2.47929115e-02, 2.62136720e-02, 3.22511382e-02]],\n",
              "\n",
              "        [[1.20310642e-01, 5.00032352e-03, 5.29311560e-02, ...,\n",
              "          3.77016999e-02, 5.04630469e-02, 2.75496915e-02],\n",
              "         [8.95814002e-02, 2.44078189e-02, 9.87445004e-03, ...,\n",
              "          1.21454205e-02, 9.15150996e-03, 8.98769423e-02],\n",
              "         [1.19507819e-01, 2.87143383e-02, 1.35847643e-01, ...,\n",
              "          3.98806967e-02, 1.09858792e-02, 1.04381442e-01],\n",
              "         [5.09198457e-02, 1.05702274e-01, 7.54701346e-02, ...,\n",
              "          1.27968997e-01, 1.22444734e-01, 5.58815710e-02],\n",
              "         [1.15787193e-01, 1.13556124e-01, 1.39861196e-01, ...,\n",
              "          9.98410136e-02, 1.05562411e-01, 1.29875287e-01]]],\n",
              "\n",
              "\n",
              "       [[[5.13564408e-01, 2.13446468e-02, 2.25944728e-01, ...,\n",
              "          1.60935462e-01, 2.15409234e-01, 1.17600076e-01],\n",
              "         [3.82391930e-01, 1.04188509e-01, 4.21506017e-02, ...,\n",
              "          5.18445857e-02, 3.90646197e-02, 3.83653492e-01],\n",
              "         [5.10137439e-01, 1.22571550e-01, 5.79886436e-01, ...,\n",
              "          1.70236856e-01, 4.68949042e-02, 4.45568144e-01],\n",
              "         [2.17359155e-01, 4.51206326e-01, 3.22155833e-01, ...,\n",
              "          5.46255231e-01, 5.22674084e-01, 2.38539040e-01],\n",
              "         [4.94255334e-01, 4.84731704e-01, 5.97018957e-01, ...,\n",
              "          4.26186651e-01, 4.50609297e-01, 5.54392517e-01]],\n",
              "\n",
              "        [[6.76190376e-01, 2.81036720e-02, 2.97492713e-01, ...,\n",
              "          2.11897522e-01, 2.83621043e-01, 1.54839471e-01],\n",
              "         [5.03480673e-01, 1.37180999e-01, 5.54980710e-02, ...,\n",
              "          6.82617649e-02, 5.14348783e-02, 5.05141735e-01],\n",
              "         [6.71678245e-01, 1.61385223e-01, 7.63514102e-01, ...,\n",
              "          2.24144295e-01, 6.17447123e-02, 5.86662352e-01],\n",
              "         [2.86188394e-01, 5.94085932e-01, 4.24170136e-01, ...,\n",
              "          7.19233215e-01, 6.88184798e-01, 3.14075142e-01],\n",
              "         [6.50766909e-01, 6.38227522e-01, 7.86071777e-01, ...,\n",
              "          5.61143517e-01, 5.93299866e-01, 7.29947209e-01]],\n",
              "\n",
              "        [[2.45257211e-03, 1.01933241e-04, 1.07901904e-03, ...,\n",
              "          7.68561498e-04, 1.02870585e-03, 5.61609515e-04],\n",
              "         [1.82614638e-03, 4.97561414e-04, 2.01293922e-04, ...,\n",
              "          2.47588381e-04, 1.86556543e-04, 1.83217111e-03],\n",
              "         [2.43620621e-03, 5.85351256e-04, 2.76929885e-03, ...,\n",
              "          8.12981103e-04, 2.23950759e-04, 2.12784996e-03],\n",
              "         [1.03801780e-03, 2.15477566e-03, 1.53848354e-03, ...,\n",
              "          2.60869018e-03, 2.49607605e-03, 1.13916420e-03],\n",
              "         [2.36036000e-03, 2.31487886e-03, 2.85111670e-03, ...,\n",
              "          2.03529187e-03, 2.15192442e-03, 2.64755031e-03]],\n",
              "\n",
              "        ...,\n",
              "\n",
              "        [[6.86140478e-01, 2.85172164e-02, 3.01870286e-01, ...,\n",
              "          2.15015575e-01, 2.87794501e-01, 1.57117933e-01],\n",
              "         [5.10889351e-01, 1.39199600e-01, 5.63147217e-02, ...,\n",
              "          6.92662299e-02, 5.21917380e-02, 5.12574852e-01],\n",
              "         [6.81561947e-01, 1.63760006e-01, 7.74749160e-01, ...,\n",
              "          2.27442563e-01, 6.26532808e-02, 5.95295072e-01],\n",
              "         [2.90399641e-01, 6.02827907e-01, 4.30411786e-01, ...,\n",
              "          7.29816675e-01, 6.98311388e-01, 3.18696737e-01],\n",
              "         [6.60342932e-01, 6.47619009e-01, 7.97638774e-01, ...,\n",
              "          5.69400728e-01, 6.02030277e-01, 7.40688324e-01]],\n",
              "\n",
              "        [[5.76997340e-01, 2.39810329e-02, 2.53852338e-01, ...,\n",
              "          1.80813432e-01, 2.42015541e-01, 1.32125467e-01],\n",
              "         [4.29623127e-01, 1.17057376e-01, 4.73568402e-02, ...,\n",
              "          5.82481772e-02, 4.38896939e-02, 4.31040496e-01],\n",
              "         [5.73147118e-01, 1.37710989e-01, 6.51511252e-01, ...,\n",
              "          1.91263676e-01, 5.26871383e-02, 5.00602543e-01],\n",
              "         [2.44206294e-01, 5.06937146e-01, 3.61946970e-01, ...,\n",
              "          6.13726020e-01, 5.87232232e-01, 2.68002212e-01],\n",
              "         [5.55303335e-01, 5.44603407e-01, 6.70759857e-01, ...,\n",
              "          4.78827149e-01, 5.06266415e-01, 6.22868359e-01]],\n",
              "\n",
              "        [[1.17670670e-01, 4.89060162e-03, 5.17696887e-02, ...,\n",
              "          3.68744135e-02, 4.93557379e-02, 2.69451700e-02],\n",
              "         [8.76157209e-02, 2.38722395e-02, 9.65777598e-03, ...,\n",
              "          1.18789142e-02, 8.95069912e-03, 8.79047811e-02],\n",
              "         [1.16885468e-01, 2.80842613e-02, 1.32866740e-01, ...,\n",
              "          3.90055962e-02, 1.07448166e-02, 1.02090999e-01],\n",
              "         [4.98025119e-02, 1.03382856e-01, 7.38141015e-02, ...,\n",
              "          1.25160977e-01, 1.19757935e-01, 5.46553656e-02],\n",
              "         [1.13246478e-01, 1.11064367e-01, 1.36792228e-01, ...,\n",
              "          9.76502076e-02, 1.03246063e-01, 1.27025440e-01]]],\n",
              "\n",
              "\n",
              "       [[[5.09687603e-01, 2.11835187e-02, 2.24239111e-01, ...,\n",
              "          1.59720600e-01, 2.13783160e-01, 1.16712332e-01],\n",
              "         [3.79505306e-01, 1.03402011e-01, 4.18324135e-02, ...,\n",
              "          5.14532179e-02, 3.87697294e-02, 3.80757362e-01],\n",
              "         [5.06286502e-01, 1.21646278e-01, 5.75509012e-01, ...,\n",
              "          1.68951765e-01, 4.65409048e-02, 4.42204624e-01],\n",
              "         [2.15718344e-01, 4.47800249e-01, 3.19723934e-01, ...,\n",
              "          5.42131662e-01, 5.18728495e-01, 2.36738339e-01],\n",
              "         [4.90524292e-01, 4.81072545e-01, 5.92512131e-01, ...,\n",
              "          4.22969431e-01, 4.47207749e-01, 5.50207496e-01]],\n",
              "\n",
              "        [[7.13554204e-01, 2.96565779e-02, 3.13931078e-01, ...,\n",
              "          2.23606214e-01, 2.99292892e-01, 1.63395345e-01],\n",
              "         [5.31301200e-01, 1.44761115e-01, 5.85646927e-02, ...,\n",
              "          7.20336586e-02, 5.42769842e-02, 5.33054054e-01],\n",
              "         [7.08792746e-01, 1.70302793e-01, 8.05703104e-01, ...,\n",
              "          2.36529693e-01, 6.51565045e-02, 6.19079232e-01],\n",
              "         [3.02002132e-01, 6.26912951e-01, 4.47608232e-01, ...,\n",
              "          7.58975387e-01, 7.26211369e-01, 3.31429780e-01],\n",
              "         [6.86725914e-01, 6.73493624e-01, 8.29507291e-01, ...,\n",
              "          5.92150271e-01, 6.26083493e-01, 7.70281434e-01]],\n",
              "\n",
              "        [[5.93523324e-01, 2.46678814e-02, 2.61123002e-01, ...,\n",
              "          1.85992166e-01, 2.48947188e-01, 1.35909706e-01],\n",
              "         [4.41928089e-01, 1.20410047e-01, 4.87131998e-02, ...,\n",
              "          5.99164777e-02, 4.51467484e-02, 4.43386048e-01],\n",
              "         [5.89562774e-01, 1.41655207e-01, 6.70171320e-01, ...,\n",
              "          1.96741715e-01, 5.41961640e-02, 5.14940441e-01],\n",
              "         [2.51200676e-01, 5.21456480e-01, 3.72313589e-01, ...,\n",
              "          6.31303906e-01, 6.04051352e-01, 2.75678158e-01],\n",
              "         [5.71207941e-01, 5.60201526e-01, 6.89971268e-01, ...,\n",
              "          4.92541373e-01, 5.20766497e-01, 6.40708148e-01]],\n",
              "\n",
              "        ...,\n",
              "\n",
              "        [[1.06297418e-01, 4.41790884e-03, 4.67659794e-02, ...,\n",
              "          3.33103798e-02, 4.45853472e-02, 2.43408307e-02],\n",
              "         [7.91473761e-02, 2.15649102e-02, 8.72431975e-03, ...,\n",
              "          1.07307779e-02, 8.08558427e-03, 7.94084966e-02],\n",
              "         [1.05588108e-01, 2.53698248e-02, 1.20024741e-01, ...,\n",
              "          3.52355763e-02, 9.70629510e-03, 9.22235698e-02],\n",
              "         [4.49889377e-02, 9.33905616e-02, 6.66797236e-02, ...,\n",
              "          1.13063760e-01, 1.08182937e-01, 4.93727438e-02],\n",
              "         [1.02300838e-01, 1.00329638e-01, 1.23570822e-01, ...,\n",
              "          8.82119983e-02, 9.32669938e-02, 1.14748009e-01]],\n",
              "\n",
              "        [[5.23037463e-02, 2.17383634e-03, 2.30112448e-02, ...,\n",
              "          1.63904037e-02, 2.19382625e-02, 1.19769294e-02],\n",
              "         [3.89445424e-02, 1.06110340e-02, 4.29280987e-03, ...,\n",
              "          5.28008956e-03, 3.97851970e-03, 3.90730239e-02],\n",
              "         [5.19547276e-02, 1.24832466e-02, 5.90582862e-02, ...,\n",
              "          1.73376985e-02, 4.77599166e-03, 4.53786962e-02],\n",
              "         [2.21368503e-02, 4.59529161e-02, 3.28098238e-02, ...,\n",
              "          5.56331314e-02, 5.32315187e-02, 2.42939051e-02],\n",
              "         [5.03372215e-02, 4.93672900e-02, 6.08031377e-02, ...,\n",
              "          4.34047952e-02, 4.58921120e-02, 5.64618669e-02]],\n",
              "\n",
              "        [[7.45855927e-01, 3.09990942e-02, 3.28142345e-01, ...,\n",
              "          2.33728573e-01, 3.12841505e-01, 1.70792043e-01],\n",
              "         [5.55352569e-01, 1.51314273e-01, 6.12158403e-02, ...,\n",
              "          7.52945319e-02, 5.67340329e-02, 5.57184696e-01],\n",
              "         [7.40878940e-01, 1.78012177e-01, 8.42176318e-01, ...,\n",
              "          2.47237086e-01, 6.81060553e-02, 6.47104144e-01],\n",
              "         [3.15673381e-01, 6.55292511e-01, 4.67870921e-01, ...,\n",
              "          7.93333232e-01, 7.59086072e-01, 3.46433192e-01],\n",
              "         [7.17813134e-01, 7.03981876e-01, 8.67058039e-01, ...,\n",
              "          6.18956149e-01, 6.54425502e-01, 8.05151105e-01]]],\n",
              "\n",
              "\n",
              "       [[[1.12425953e-01, 4.67262184e-03, 4.94622551e-02, ...,\n",
              "          3.52308750e-02, 4.71558981e-02, 2.57441923e-02],\n",
              "         [8.37105885e-02, 2.28082258e-02, 9.22731683e-03, ...,\n",
              "          1.13494573e-02, 8.55175592e-03, 8.39867592e-02],\n",
              "         [1.11675747e-01, 2.68325135e-02, 1.26944721e-01, ...,\n",
              "          3.72670703e-02, 1.02659073e-02, 9.75406840e-02],\n",
              "         [4.75827567e-02, 9.87749547e-02, 7.05241188e-02, ...,\n",
              "          1.19582407e-01, 1.14420183e-01, 5.22193126e-02],\n",
              "         [1.08198948e-01, 1.06114097e-01, 1.30695239e-01, ...,\n",
              "          9.32978243e-02, 9.86442640e-02, 1.21363759e-01]],\n",
              "\n",
              "        [[7.49959648e-01, 3.11696529e-02, 3.29947799e-01, ...,\n",
              "          2.35014573e-01, 3.14562798e-01, 1.71731755e-01],\n",
              "         [5.58408141e-01, 1.52146816e-01, 6.15526550e-02, ...,\n",
              "          7.57088065e-02, 5.70461862e-02, 5.60250401e-01],\n",
              "         [7.44955242e-01, 1.78991616e-01, 8.46809983e-01, ...,\n",
              "          2.48597398e-01, 6.84807748e-02, 6.50664568e-01],\n",
              "         [3.17410231e-01, 6.58897996e-01, 4.70445156e-01, ...,\n",
              "          7.97698200e-01, 7.63262570e-01, 3.48339289e-01],\n",
              "         [7.21762598e-01, 7.07855225e-01, 8.71828616e-01, ...,\n",
              "          6.22361660e-01, 6.58026159e-01, 8.09581101e-01]],\n",
              "\n",
              "        [[7.06652164e-01, 2.93697156e-02, 3.10894489e-01, ...,\n",
              "          2.21443310e-01, 2.96397895e-01, 1.61814854e-01],\n",
              "         [5.26162028e-01, 1.43360868e-01, 5.79982065e-02, ...,\n",
              "          7.13368952e-02, 5.37519716e-02, 5.27897894e-01],\n",
              "         [7.01936722e-01, 1.68655485e-01, 7.97909737e-01, ...,\n",
              "          2.34241784e-01, 6.45262524e-02, 6.13090992e-01],\n",
              "         [2.99080938e-01, 6.20848954e-01, 4.43278611e-01, ...,\n",
              "          7.51634002e-01, 7.19186902e-01, 3.28223944e-01],\n",
              "         [6.80083394e-01, 6.66979074e-01, 8.21483612e-01, ...,\n",
              "          5.86422503e-01, 6.20027483e-01, 7.62830675e-01]],\n",
              "\n",
              "        ...,\n",
              "\n",
              "        [[7.20669806e-01, 2.99523138e-02, 3.17061603e-01, ...,\n",
              "          2.25836009e-01, 3.02277446e-01, 1.65024728e-01],\n",
              "         [5.36599338e-01, 1.46204680e-01, 5.91486990e-02, ...,\n",
              "          7.27519840e-02, 5.48182316e-02, 5.38369656e-01],\n",
              "         [7.15860844e-01, 1.72001049e-01, 8.13737631e-01, ...,\n",
              "          2.38888368e-01, 6.58062398e-02, 6.25252664e-01],\n",
              "         [3.05013716e-01, 6.33164585e-01, 4.52071786e-01, ...,\n",
              "          7.66543925e-01, 7.33453155e-01, 3.34734827e-01],\n",
              "         [6.93573952e-01, 6.80209756e-01, 8.37779105e-01, ...,\n",
              "          5.98055184e-01, 6.32326782e-01, 7.77962685e-01]],\n",
              "\n",
              "        [[5.03995478e-01, 2.09469441e-02, 2.21734852e-01, ...,\n",
              "          1.57936856e-01, 2.11395651e-01, 1.15408905e-01],\n",
              "         [3.75267059e-01, 1.02247231e-01, 4.13652360e-02, ...,\n",
              "          5.08785956e-02, 3.83367538e-02, 3.76505107e-01],\n",
              "         [5.00632346e-01, 1.20287746e-01, 5.69081783e-01, ...,\n",
              "          1.67064935e-01, 4.60211411e-02, 4.37266141e-01],\n",
              "         [2.13309228e-01, 4.42799270e-01, 3.16153288e-01, ...,\n",
              "          5.36077201e-01, 5.12935400e-01, 2.34094486e-01],\n",
              "         [4.85046178e-01, 4.75699991e-01, 5.85895061e-01, ...,\n",
              "          4.18245763e-01, 4.42213386e-01, 5.44062853e-01]],\n",
              "\n",
              "        [[3.67980778e-01, 1.52939335e-02, 1.61894634e-01, ...,\n",
              "          1.15313992e-01, 1.54345706e-01, 8.42631757e-02],\n",
              "         [2.73992687e-01, 7.46534839e-02, 3.02018821e-02, ...,\n",
              "          3.71478461e-02, 2.79907063e-02, 2.74896622e-01],\n",
              "         [3.65525275e-01, 8.78253505e-02, 4.15502071e-01, ...,\n",
              "          1.21978648e-01, 3.36012878e-02, 3.19259882e-01],\n",
              "         [1.55742869e-01, 3.23299795e-01, 2.30832115e-01, ...,\n",
              "          3.91404539e-01, 3.74508083e-01, 1.70918748e-01],\n",
              "         [3.54145408e-01, 3.47321481e-01, 4.27777916e-01, ...,\n",
              "          3.05372596e-01, 3.22872013e-01, 3.97235066e-01]]]],\n",
              "      dtype=float32)>"
            ]
          },
          "metadata": {},
          "execution_count": 190
        }
      ]
    },
    {
      "cell_type": "code",
      "source": [
        "#6\n",
        "a=tf.random.uniform(shape=(1,224,224,3),minval=0,maxval=1)"
      ],
      "metadata": {
        "id": "_MgQ3ojxk3PS"
      },
      "execution_count": 191,
      "outputs": []
    },
    {
      "cell_type": "code",
      "source": [
        "print(tf.reduce_max(a).numpy())\n",
        "print(tf.reduce_min(a).numpy())"
      ],
      "metadata": {
        "colab": {
          "base_uri": "https://localhost:8080/"
        },
        "id": "IIZNHw7ClF1H",
        "outputId": "d4b45aba-0dc2-4519-cf6d-fb395066044e"
      },
      "execution_count": 192,
      "outputs": [
        {
          "output_type": "stream",
          "name": "stdout",
          "text": [
            "0.9999845\n",
            "2.6226044e-06\n"
          ]
        }
      ]
    },
    {
      "cell_type": "code",
      "source": [
        "#7\n",
        "a=tf.random.uniform(shape=(1,224,224,3),minval=0,maxval=1)\n",
        "tf.squeeze(a)"
      ],
      "metadata": {
        "colab": {
          "base_uri": "https://localhost:8080/"
        },
        "id": "rqPlETuYlHh9",
        "outputId": "20d88370-9efb-412d-c481-5dd57e559a4b"
      },
      "execution_count": 193,
      "outputs": [
        {
          "output_type": "execute_result",
          "data": {
            "text/plain": [
              "<tf.Tensor: shape=(224, 224, 3), dtype=float32, numpy=\n",
              "array([[[9.55696821e-01, 7.24289775e-01, 4.98284936e-01],\n",
              "        [5.06071925e-01, 9.27577496e-01, 4.60139155e-01],\n",
              "        [7.49034286e-01, 3.06905270e-01, 2.50339746e-01],\n",
              "        ...,\n",
              "        [3.75957131e-01, 2.03198433e-01, 2.22903967e-01],\n",
              "        [9.45205569e-01, 1.13681555e-02, 7.23131776e-01],\n",
              "        [9.64228392e-01, 5.02299070e-02, 2.44393706e-01]],\n",
              "\n",
              "       [[5.13869524e-01, 9.96599197e-01, 8.24389577e-01],\n",
              "        [2.33581424e-01, 7.09347129e-01, 2.67512798e-02],\n",
              "        [1.92519069e-01, 4.48214293e-01, 7.41687536e-01],\n",
              "        ...,\n",
              "        [9.22751427e-03, 9.26254392e-01, 2.83317566e-02],\n",
              "        [6.37668014e-01, 5.77263951e-01, 1.29481554e-01],\n",
              "        [3.47725868e-01, 1.87308431e-01, 4.64456558e-01]],\n",
              "\n",
              "       [[2.24637985e-02, 7.24700928e-01, 3.24611545e-01],\n",
              "        [7.77771711e-01, 4.26566601e-01, 8.11135650e-01],\n",
              "        [8.96891594e-01, 8.27131271e-02, 8.93657088e-01],\n",
              "        ...,\n",
              "        [5.59369206e-01, 3.46465588e-01, 1.51867867e-01],\n",
              "        [6.16792440e-01, 3.82528067e-01, 4.52440977e-02],\n",
              "        [8.12768936e-01, 9.57646489e-01, 5.07823467e-01]],\n",
              "\n",
              "       ...,\n",
              "\n",
              "       [[8.31755757e-01, 8.58093023e-01, 4.35996771e-01],\n",
              "        [6.81364417e-01, 5.33512831e-02, 5.23031831e-01],\n",
              "        [7.23846793e-01, 6.88234091e-01, 2.32887149e-01],\n",
              "        ...,\n",
              "        [2.86950588e-01, 7.10157871e-01, 7.79242992e-01],\n",
              "        [4.72238421e-01, 7.02074289e-01, 6.54004812e-01],\n",
              "        [7.04540610e-01, 3.09662461e-01, 2.70855427e-03]],\n",
              "\n",
              "       [[3.69492054e-01, 9.78601694e-01, 4.56329703e-01],\n",
              "        [4.14731503e-02, 7.52712846e-01, 1.91692472e-01],\n",
              "        [1.43289566e-04, 5.87165713e-01, 7.45861292e-01],\n",
              "        ...,\n",
              "        [3.32585812e-01, 3.62514257e-02, 9.74357247e-01],\n",
              "        [3.13360095e-01, 5.56429148e-01, 1.06142044e-01],\n",
              "        [3.60780835e-01, 5.17630458e-01, 8.79666924e-01]],\n",
              "\n",
              "       [[4.02711034e-01, 1.62913322e-01, 6.47363544e-01],\n",
              "        [9.11208272e-01, 5.17441511e-01, 6.80946112e-02],\n",
              "        [2.17902660e-02, 3.13000202e-01, 9.69408989e-01],\n",
              "        ...,\n",
              "        [9.09361720e-01, 3.29700828e-01, 6.76845074e-01],\n",
              "        [1.33563638e-01, 5.79631448e-01, 8.64276886e-01],\n",
              "        [5.66556931e-01, 4.76709008e-01, 4.30654168e-01]]], dtype=float32)>"
            ]
          },
          "metadata": {},
          "execution_count": 193
        }
      ]
    },
    {
      "cell_type": "code",
      "source": [
        "#9\n",
        "a=np.array([22,4,1,55,6,7,8,34,90,12])\n",
        "a=tf.Variable(a)\n",
        "a=tf.reshape(a,shape=(10))\n",
        "print(a)"
      ],
      "metadata": {
        "colab": {
          "base_uri": "https://localhost:8080/"
        },
        "id": "5QBTDm0glRRc",
        "outputId": "5965ff3c-f2e1-4db8-eccf-3c9dd79c20af"
      },
      "execution_count": 194,
      "outputs": [
        {
          "output_type": "stream",
          "name": "stdout",
          "text": [
            "tf.Tensor([22  4  1 55  6  7  8 34 90 12], shape=(10,), dtype=int64)\n"
          ]
        }
      ]
    },
    {
      "cell_type": "code",
      "source": [
        "## max value\n",
        "tf.reduce_max(a)"
      ],
      "metadata": {
        "colab": {
          "base_uri": "https://localhost:8080/"
        },
        "id": "psnyPiBnmdwS",
        "outputId": "d10ab2ae-bda7-441a-ea69-9983082bdbc2"
      },
      "execution_count": 195,
      "outputs": [
        {
          "output_type": "execute_result",
          "data": {
            "text/plain": [
              "<tf.Tensor: shape=(), dtype=int64, numpy=90>"
            ]
          },
          "metadata": {},
          "execution_count": 195
        }
      ]
    },
    {
      "cell_type": "code",
      "source": [
        "tf.argmax(a)"
      ],
      "metadata": {
        "colab": {
          "base_uri": "https://localhost:8080/"
        },
        "id": "ipqJ3fSynhe3",
        "outputId": "9fc280dc-e9e1-4cb0-82f4-8541c1551b3d"
      },
      "execution_count": 196,
      "outputs": [
        {
          "output_type": "execute_result",
          "data": {
            "text/plain": [
              "<tf.Tensor: shape=(), dtype=int64, numpy=8>"
            ]
          },
          "metadata": {},
          "execution_count": 196
        }
      ]
    },
    {
      "cell_type": "code",
      "source": [
        "## optional\n",
        "## argmax() across different axes\n",
        "a=tf.reshape(a,shape=(5,2))\n",
        "a"
      ],
      "metadata": {
        "colab": {
          "base_uri": "https://localhost:8080/"
        },
        "id": "OG2oSO3Tn0Fe",
        "outputId": "43c754b5-0d03-4691-a712-0e8ee089173c"
      },
      "execution_count": 197,
      "outputs": [
        {
          "output_type": "execute_result",
          "data": {
            "text/plain": [
              "<tf.Tensor: shape=(5, 2), dtype=int64, numpy=\n",
              "array([[22,  4],\n",
              "       [ 1, 55],\n",
              "       [ 6,  7],\n",
              "       [ 8, 34],\n",
              "       [90, 12]])>"
            ]
          },
          "metadata": {},
          "execution_count": 197
        }
      ]
    },
    {
      "cell_type": "code",
      "source": [
        "tf.argmax(a,axis=1)"
      ],
      "metadata": {
        "colab": {
          "base_uri": "https://localhost:8080/"
        },
        "id": "KghqpDgOn9jT",
        "outputId": "ae4bff51-c0d7-4d7b-f380-5249c9a33d5a"
      },
      "execution_count": 198,
      "outputs": [
        {
          "output_type": "execute_result",
          "data": {
            "text/plain": [
              "<tf.Tensor: shape=(5,), dtype=int64, numpy=array([0, 1, 1, 1, 0])>"
            ]
          },
          "metadata": {},
          "execution_count": 198
        }
      ]
    },
    {
      "cell_type": "code",
      "source": [
        "tf.argmax(a,axis=0)"
      ],
      "metadata": {
        "colab": {
          "base_uri": "https://localhost:8080/"
        },
        "id": "REUwpCoeoJo_",
        "outputId": "db6beafc-57ce-469b-b5e1-7662dec49417"
      },
      "execution_count": 199,
      "outputs": [
        {
          "output_type": "execute_result",
          "data": {
            "text/plain": [
              "<tf.Tensor: shape=(2,), dtype=int64, numpy=array([4, 1])>"
            ]
          },
          "metadata": {},
          "execution_count": 199
        }
      ]
    },
    {
      "cell_type": "code",
      "source": [
        "#10\n",
        "a=np.array([22,4,1,55,6,7,8,34,90,12])\n",
        "a=tf.Variable(a)\n",
        "a=tf.reshape(a,shape=(10))\n",
        "print(a)"
      ],
      "metadata": {
        "colab": {
          "base_uri": "https://localhost:8080/"
        },
        "id": "_wt5QF6moTaw",
        "outputId": "f2734bdd-c74b-429d-a632-788eb06e8c44"
      },
      "execution_count": 200,
      "outputs": [
        {
          "output_type": "stream",
          "name": "stdout",
          "text": [
            "tf.Tensor([22  4  1 55  6  7  8 34 90 12], shape=(10,), dtype=int64)\n"
          ]
        }
      ]
    },
    {
      "cell_type": "code",
      "source": [
        "one_hot_matrix=tf.one_hot(a,depth=10)\n",
        "one_hot_matrix"
      ],
      "metadata": {
        "colab": {
          "base_uri": "https://localhost:8080/"
        },
        "id": "R459GzswoYO9",
        "outputId": "c7d7aca3-0915-4b52-9ddf-dc002f31d110"
      },
      "execution_count": 201,
      "outputs": [
        {
          "output_type": "execute_result",
          "data": {
            "text/plain": [
              "<tf.Tensor: shape=(10, 10), dtype=float32, numpy=\n",
              "array([[0., 0., 0., 0., 0., 0., 0., 0., 0., 0.],\n",
              "       [0., 0., 0., 0., 1., 0., 0., 0., 0., 0.],\n",
              "       [0., 1., 0., 0., 0., 0., 0., 0., 0., 0.],\n",
              "       [0., 0., 0., 0., 0., 0., 0., 0., 0., 0.],\n",
              "       [0., 0., 0., 0., 0., 0., 1., 0., 0., 0.],\n",
              "       [0., 0., 0., 0., 0., 0., 0., 1., 0., 0.],\n",
              "       [0., 0., 0., 0., 0., 0., 0., 0., 1., 0.],\n",
              "       [0., 0., 0., 0., 0., 0., 0., 0., 0., 0.],\n",
              "       [0., 0., 0., 0., 0., 0., 0., 0., 0., 0.],\n",
              "       [0., 0., 0., 0., 0., 0., 0., 0., 0., 0.]], dtype=float32)>"
            ]
          },
          "metadata": {},
          "execution_count": 201
        }
      ]
    },
    {
      "cell_type": "code",
      "source": [
        "## Optional\n",
        "## grocery bill"
      ],
      "metadata": {
        "id": "RlYgqvVKoad7"
      },
      "execution_count": 202,
      "outputs": []
    },
    {
      "cell_type": "code",
      "source": [
        "items=['food','grocery','rent','drinks']"
      ],
      "metadata": {
        "id": "7FYOI7cQozGv"
      },
      "execution_count": 203,
      "outputs": []
    },
    {
      "cell_type": "code",
      "source": [
        "expenses=np.ones((12,4))"
      ],
      "metadata": {
        "id": "1vxxESSEo9Ri"
      },
      "execution_count": 241,
      "outputs": []
    },
    {
      "cell_type": "code",
      "source": [
        "expenses[:,2]=600"
      ],
      "metadata": {
        "id": "iuHTUWpHpLnc"
      },
      "execution_count": 242,
      "outputs": []
    },
    {
      "cell_type": "code",
      "source": [
        ""
      ],
      "metadata": {
        "id": "YmAfGnxMpR56"
      },
      "execution_count": 210,
      "outputs": []
    },
    {
      "cell_type": "code",
      "source": [
        "expenses[:,0]=20"
      ],
      "metadata": {
        "id": "ewsWjHPOpWsS"
      },
      "execution_count": 228,
      "outputs": []
    },
    {
      "cell_type": "code",
      "source": [
        "food_random=np.random.randint(20,100,12)"
      ],
      "metadata": {
        "id": "98eMJNCOpplI"
      },
      "execution_count": 243,
      "outputs": []
    },
    {
      "cell_type": "code",
      "source": [
        "food_random"
      ],
      "metadata": {
        "colab": {
          "base_uri": "https://localhost:8080/"
        },
        "id": "Ub2BFLWwqdpc",
        "outputId": "72c38d1b-ae6b-46ce-8537-b224c7983a48"
      },
      "execution_count": 244,
      "outputs": [
        {
          "output_type": "execute_result",
          "data": {
            "text/plain": [
              "array([28, 38, 37, 79, 21, 41, 80, 51, 79, 26, 61, 52])"
            ]
          },
          "metadata": {},
          "execution_count": 244
        }
      ]
    },
    {
      "cell_type": "code",
      "source": [
        "expenses[:,0]=food_random"
      ],
      "metadata": {
        "id": "pi8_JAYJqCXz"
      },
      "execution_count": 246,
      "outputs": []
    },
    {
      "cell_type": "code",
      "source": [
        "expenses"
      ],
      "metadata": {
        "colab": {
          "base_uri": "https://localhost:8080/"
        },
        "id": "if4p1u6fqYl2",
        "outputId": "f52c7061-4476-435b-cf3e-14392b839afe"
      },
      "execution_count": 247,
      "outputs": [
        {
          "output_type": "execute_result",
          "data": {
            "text/plain": [
              "array([[ 28.,   1., 600.,   1.],\n",
              "       [ 38.,   1., 600.,   1.],\n",
              "       [ 37.,   1., 600.,   1.],\n",
              "       [ 79.,   1., 600.,   1.],\n",
              "       [ 21.,   1., 600.,   1.],\n",
              "       [ 41.,   1., 600.,   1.],\n",
              "       [ 80.,   1., 600.,   1.],\n",
              "       [ 51.,   1., 600.,   1.],\n",
              "       [ 79.,   1., 600.,   1.],\n",
              "       [ 26.,   1., 600.,   1.],\n",
              "       [ 61.,   1., 600.,   1.],\n",
              "       [ 52.,   1., 600.,   1.]])"
            ]
          },
          "metadata": {},
          "execution_count": 247
        }
      ]
    },
    {
      "cell_type": "code",
      "source": [
        "groceries=random=np.random.randint(80,120,12)\n",
        "groceries"
      ],
      "metadata": {
        "colab": {
          "base_uri": "https://localhost:8080/"
        },
        "id": "PxysSXT_q1UD",
        "outputId": "c140abdf-a844-49ed-d192-f4713fb4af4e"
      },
      "execution_count": 248,
      "outputs": [
        {
          "output_type": "execute_result",
          "data": {
            "text/plain": [
              "array([ 92, 114, 114, 104,  84,  81,  95, 106,  88,  83,  92,  94])"
            ]
          },
          "metadata": {},
          "execution_count": 248
        }
      ]
    },
    {
      "cell_type": "code",
      "source": [
        "expenses[:,1]=groceries"
      ],
      "metadata": {
        "id": "Q3jhMgnMq99s"
      },
      "execution_count": 251,
      "outputs": []
    },
    {
      "cell_type": "code",
      "source": [
        "drinks=random=np.random.randint(1,20,12)\n",
        "drinks"
      ],
      "metadata": {
        "colab": {
          "base_uri": "https://localhost:8080/"
        },
        "id": "cEr2nTwQrAd2",
        "outputId": "82a7367b-4b0a-4dbf-99af-d9794373b2cd"
      },
      "execution_count": 252,
      "outputs": [
        {
          "output_type": "execute_result",
          "data": {
            "text/plain": [
              "array([ 9,  4,  6, 19, 16, 15, 10,  5,  4, 16, 15,  1])"
            ]
          },
          "metadata": {},
          "execution_count": 252
        }
      ]
    },
    {
      "cell_type": "code",
      "source": [
        "expenses[:,-1]=drinks"
      ],
      "metadata": {
        "id": "Lrvlhz-rrHYd"
      },
      "execution_count": 253,
      "outputs": []
    },
    {
      "cell_type": "code",
      "source": [
        "## now the expenses table is ready\n",
        "## every row indicates the month\n",
        "\n",
        "expenses"
      ],
      "metadata": {
        "colab": {
          "base_uri": "https://localhost:8080/"
        },
        "id": "3pk-B2X5rJbf",
        "outputId": "8d77d2b3-844d-42f5-becf-93027764c54a"
      },
      "execution_count": 254,
      "outputs": [
        {
          "output_type": "execute_result",
          "data": {
            "text/plain": [
              "array([[ 28.,  92., 600.,   9.],\n",
              "       [ 38., 114., 600.,   4.],\n",
              "       [ 37., 114., 600.,   6.],\n",
              "       [ 79., 104., 600.,  19.],\n",
              "       [ 21.,  84., 600.,  16.],\n",
              "       [ 41.,  81., 600.,  15.],\n",
              "       [ 80.,  95., 600.,  10.],\n",
              "       [ 51., 106., 600.,   5.],\n",
              "       [ 79.,  88., 600.,   4.],\n",
              "       [ 26.,  83., 600.,  16.],\n",
              "       [ 61.,  92., 600.,  15.],\n",
              "       [ 52.,  94., 600.,   1.]])"
            ]
          },
          "metadata": {},
          "execution_count": 254
        }
      ]
    },
    {
      "cell_type": "code",
      "source": [
        "monthly_expenses=tf.reduce_sum(expenses,axis=1)\n",
        "monthly_expenses\n",
        "## monthly total for everything"
      ],
      "metadata": {
        "colab": {
          "base_uri": "https://localhost:8080/"
        },
        "id": "P6F_clMhrKRA",
        "outputId": "b9b9fe31-37aa-421e-d942-a73fb80a7f6e"
      },
      "execution_count": 258,
      "outputs": [
        {
          "output_type": "execute_result",
          "data": {
            "text/plain": [
              "<tf.Tensor: shape=(12,), dtype=float64, numpy=\n",
              "array([729., 756., 757., 802., 721., 737., 785., 762., 771., 725., 768.,\n",
              "       747.])>"
            ]
          },
          "metadata": {},
          "execution_count": 258
        }
      ]
    },
    {
      "cell_type": "code",
      "source": [
        "yearly_expenses=tf.reduce_sum(expenses,axis=0)\n",
        "yearly_expenses\n",
        "## so this is for year. how much is it costing for \n",
        "## food, groceries, drinks and rent"
      ],
      "metadata": {
        "colab": {
          "base_uri": "https://localhost:8080/"
        },
        "id": "KtRFrQGCrfUk",
        "outputId": "9d13a7e8-c1d7-4ece-f193-62548e9ad0cf"
      },
      "execution_count": 257,
      "outputs": [
        {
          "output_type": "execute_result",
          "data": {
            "text/plain": [
              "<tf.Tensor: shape=(4,), dtype=float64, numpy=array([ 593., 1147., 7200.,  120.])>"
            ]
          },
          "metadata": {},
          "execution_count": 257
        }
      ]
    },
    {
      "cell_type": "code",
      "source": [
        ""
      ],
      "metadata": {
        "id": "sqFWaekZrx6-"
      },
      "execution_count": 260,
      "outputs": []
    },
    {
      "cell_type": "code",
      "source": [
        ""
      ],
      "metadata": {
        "id": "0tjc-xnhs5nQ"
      },
      "execution_count": null,
      "outputs": []
    }
  ]
}